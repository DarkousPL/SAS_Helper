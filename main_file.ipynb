{
 "cells": [
  {
   "cell_type": "code",
   "execution_count": 1,
   "metadata": {},
   "outputs": [
    {
     "name": "stdout",
     "output_type": "stream",
     "text": [
      "/*#\n",
      "*/\n",
      "1\n",
      "/*#\n",
      "*/\n",
      "2\n"
     ]
    }
   ],
   "source": [
    " import re\n",
    "\n",
    "selected_file = r'C:\\Users\\Darkous\\01_SAS_Helper\\Files\\file1.txt'\n",
    "\n",
    "tab_start = '/*#'\n",
    "tab_end = '*/'\n",
    "\n",
    "#Bool variables\n",
    "start_var = False\n",
    "end_var = False\n",
    "\n",
    "#Other variables\n",
    "sentences_dict = {}\n",
    "sentences_list = []\n",
    "iter = 0\n",
    "\n",
    "# Function which removing all additionally white spaces where are more than one\n",
    "def while_replace(string):\n",
    "    while '  ' in string:\n",
    "        string = string.replace('  ', ' ')\n",
    "    return string\n",
    "\n",
    "# Main program\n",
    "\n",
    "with open(selected_file, 'r') as f:\n",
    "    for line in f:\n",
    "        line_strip = while_replace(line.strip())\n",
    "        for word in line_strip.split(' '):\n",
    "            if word[0:3] == tab_start:\n",
    "                iter += 1\n",
    "                print(word)\n",
    "                start_var = True\n",
    "                word = word[4:]\n",
    "            if word[-2:] == tab_end:\n",
    "                print(word)\n",
    "                word = word[:-2]\n",
    "                end_var = True\n",
    "                \n",
    "            if (start_var == True):\n",
    "                    sentences_list.append(word)\n",
    "                #sentences_dict[str(iter)] = sentences_list.append(word)\n",
    "            \n",
    "            \n",
    "            if end_var == True:\n",
    "                start_var = False\n",
    "                end_var = False\n",
    "                sentences_dict[str(iter)] = sentences_list\n",
    "                sentences_list = []\n",
    "                print(iter)\n",
    "                \n",
    "            \n",
    "        \n"
   ]
  },
  {
   "cell_type": "code",
   "execution_count": null,
   "metadata": {},
   "outputs": [],
   "source": [
    "print(*sentences_list)"
   ]
  },
  {
   "cell_type": "code",
   "execution_count": null,
   "metadata": {},
   "outputs": [],
   "source": [
    "print(sentences_dict)"
   ]
  },
  {
   "cell_type": "code",
   "execution_count": null,
   "metadata": {},
   "outputs": [],
   "source": []
  }
 ],
 "metadata": {
  "kernelspec": {
   "display_name": "Python 3",
   "language": "python",
   "name": "python3"
  },
  "language_info": {
   "codemirror_mode": {
    "name": "ipython",
    "version": 3
   },
   "file_extension": ".py",
   "mimetype": "text/x-python",
   "name": "python",
   "nbconvert_exporter": "python",
   "pygments_lexer": "ipython3",
   "version": "3.7.1"
  }
 },
 "nbformat": 4,
 "nbformat_minor": 2
}
