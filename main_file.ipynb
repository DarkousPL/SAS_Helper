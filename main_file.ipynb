{
 "cells": [
  {
   "cell_type": "code",
   "execution_count": 12,
   "metadata": {},
   "outputs": [
    {
     "name": "stdout",
     "output_type": "stream",
     "text": [
      "/\n",
      "*\n",
      "#\n",
      " \n",
      "S\n",
      "t\n",
      "e\n",
      "p\n",
      "1\n",
      " \n",
      "D\n",
      "o\n",
      "w\n",
      "n\n",
      "l\n",
      "o\n",
      "a\n",
      "d\n",
      " \n",
      "a\n",
      "l\n",
      "l\n",
      " \n",
      "d\n",
      "a\n",
      "t\n",
      "a\n",
      " \n",
      "*\n",
      "/\n",
      "/\n",
      "*\n",
      "#\n"
     ]
    }
   ],
   "source": [
    "selected_file = r'C:\\Users\\Darkous\\01_SAS_Helper\\Files\\file1.txt'\n",
    "\n",
    "tab_start = '/*#'\n",
    "tab_end = '*/'\n",
    "\n",
    "#Bool variables\n",
    "start_var = False\n",
    "end_var = False\n",
    "\n",
    "with open(selected_file, 'r') as f:\n",
    "    for line in f:\n",
    "        line_strip = line.strip()\n",
    "    \n",
    "        if tab_start in line_strip:\n",
    "            for word in line_strip:\n",
    "                print(word[0:3])\n",
    "                if word[0:3] == tab_start:\n",
    "                    start_var = True\n",
    "                    print(word)\n",
    "            #print(line_strip)\n",
    "        \n"
   ]
  },
  {
   "cell_type": "code",
   "execution_count": null,
   "metadata": {},
   "outputs": [],
   "source": []
  }
 ],
 "metadata": {
  "kernelspec": {
   "display_name": "Python 3",
   "language": "python",
   "name": "python3"
  },
  "language_info": {
   "codemirror_mode": {
    "name": "ipython",
    "version": 3
   },
   "file_extension": ".py",
   "mimetype": "text/x-python",
   "name": "python",
   "nbconvert_exporter": "python",
   "pygments_lexer": "ipython3",
   "version": "3.7.1"
  }
 },
 "nbformat": 4,
 "nbformat_minor": 2
}
