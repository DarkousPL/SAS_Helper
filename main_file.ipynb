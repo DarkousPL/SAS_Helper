{
 "cells": [
  {
   "cell_type": "code",
   "execution_count": null,
   "metadata": {
    "scrolled": true
   },
   "outputs": [],
   "source": [
    "selected_file = r'C:\\Users\\Darkous\\01_SAS_Helper\\Files\\file1.txt'\n",
    "output_file = r'C:\\Users\\Darkous\\01_SAS_Helper\\Files\\result1.txt'\n",
    "\n",
    "# Own tag: where start and end block of comment which application should search\n",
    "tab_start = '/*#'\n",
    "tab_end = '*/'\n",
    "\n",
    "#Bool variables\n",
    "start_var = False\n",
    "end_var = False\n",
    "ignore_text = False\n",
    "\n",
    "#Other variables\n",
    "Author = ''\n",
    "Client = ''\n",
    "Create_date = ''\n",
    "BuisnessOwner = ''\n",
    "\n",
    "sentences_dict = {}\n",
    "sentences_list = []\n",
    "iter = 0\n",
    "\n",
    "# Main program\n",
    "with open(selected_file, 'r') as f:\n",
    "    for line in f:\n",
    "        line_strip = line.strip()\n",
    "        while '  ' in line_strip:    \n",
    "            line_strip = line_strip.replace('  ', ' ')\n",
    "            \n",
    "        # Get heading\n",
    "        if '#Autor' in line_strip:\n",
    "            Author = line_strip[7:].strip()\n",
    "        elif '#Zleceniodawca' in line_strip:\n",
    "            Client = line_strip[15:].strip()\n",
    "        elif '#Data stworzenia' in line_strip:\n",
    "            Create_date = line_strip[17:].strip()\n",
    "        elif '#Właściciel biznesowy' in line_strip:\n",
    "            BuisnessOwner = line_strip[22:].strip()\n",
    "\n",
    "        for word in line_strip.split(' '):\n",
    "            if word[0:len(tab_start)] == tab_start:\n",
    "                iter += 1\n",
    "                #print(word)\n",
    "                start_var = True\n",
    "                word = word[len(tab_start):]\n",
    "            if (start_var == True) & (word[-len(tab_end):] == tab_end):\n",
    "                #print(word)\n",
    "                word = word[:-len(tab_end)]\n",
    "                end_var = True\n",
    "\n",
    "            if (start_var == True):\n",
    "                    sentences_list.append(word)\n",
    "\n",
    "            if end_var == True:\n",
    "                start_var = False\n",
    "                end_var = False\n",
    "                sentences_dict[str(iter)] = sentences_list\n",
    "                sentences_list = []\n",
    "                #print(iter)\n",
    "\n",
    "with open(output_file, 'w') as w:\n",
    "    w.write('\\n /*>>> Sekcja z komentarzami: \\n\\n')\n",
    "#Create new heading\n",
    "    w.write(' #Autor: ' + Author + '\\n')\n",
    "    w.write(' #Zleceniodawca: ' + Client + '\\n')\n",
    "    w.write(' #Data stworzenia: ' + Create_date + '\\n')\n",
    "    w.write(' #Właściciel biznesowy: ' + BuisnessOwner + '\\n\\n')\n",
    "\n",
    "# rewrite new comments\n",
    "    for i in sentences_dict:\n",
    "        w.write(' '.join(sentences_dict[i]))\n",
    "        w.write('\\n')\n",
    "    w.write('\\n <<<*/ \\n\\n')\n",
    "\n",
    "# rewrite old file to new file (exept old heading)\n",
    "    with open(selected_file, 'r') as f:\n",
    "        for line in f:\n",
    "            if '/*>>>' in line:\n",
    "                ignore_text = True\n",
    "            elif '<<<*/' in line:\n",
    "                ignore_text = False\n",
    "\n",
    "            if (ignore_text != True) & ('<<<*/' not in line):\n",
    "                w.write(line)"
   ]
  },
  {
   "cell_type": "code",
   "execution_count": 1,
   "metadata": {},
   "outputs": [],
   "source": [
    "string = \"X XX  XXX   XXXX    Y\""
   ]
  },
  {
   "cell_type": "code",
   "execution_count": 3,
   "metadata": {},
   "outputs": [
    {
     "data": {
      "text/plain": [
       "'X XX XXX  XXXX  Y'"
      ]
     },
     "execution_count": 3,
     "metadata": {},
     "output_type": "execute_result"
    }
   ],
   "source": [
    "string.replace(\"  \", \" \")"
   ]
  },
  {
   "cell_type": "code",
   "execution_count": null,
   "metadata": {},
   "outputs": [],
   "source": []
  }
 ],
 "metadata": {
  "kernelspec": {
   "display_name": "Python 3",
   "language": "python",
   "name": "python3"
  },
  "language_info": {
   "codemirror_mode": {
    "name": "ipython",
    "version": 3
   },
   "file_extension": ".py",
   "mimetype": "text/x-python",
   "name": "python",
   "nbconvert_exporter": "python",
   "pygments_lexer": "ipython3",
   "version": "3.7.1"
  }
 },
 "nbformat": 4,
 "nbformat_minor": 2
}
